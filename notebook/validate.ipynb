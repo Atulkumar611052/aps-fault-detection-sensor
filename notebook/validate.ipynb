{
 "cells": [
  {
   "cell_type": "code",
   "execution_count": 1,
   "metadata": {},
   "outputs": [
    {
     "ename": "NameError",
     "evalue": "name 'sample1' is not defined",
     "output_type": "error",
     "traceback": [
      "\u001b[0;31m---------------------------------------------------------------------------\u001b[0m",
      "\u001b[0;31mNameError\u001b[0m                                 Traceback (most recent call last)",
      "Cell \u001b[0;32mIn[1], line 6\u001b[0m\n\u001b[1;32m      4\u001b[0m target1 \u001b[38;5;241m=\u001b[39m stats\u001b[38;5;241m.\u001b[39muniform\u001b[38;5;241m.\u001b[39mrvs(size\u001b[38;5;241m=\u001b[39m\u001b[38;5;241m100\u001b[39m, random_state\u001b[38;5;241m=\u001b[39mrng)\n\u001b[1;32m      5\u001b[0m target2 \u001b[38;5;241m=\u001b[39m stats\u001b[38;5;241m.\u001b[39mnorm\u001b[38;5;241m.\u001b[39mrvs(size\u001b[38;5;241m=\u001b[39m\u001b[38;5;241m110\u001b[39m, random_state\u001b[38;5;241m=\u001b[39mrng)\n\u001b[0;32m----> 6\u001b[0m response \u001b[38;5;241m=\u001b[39m stats\u001b[38;5;241m.\u001b[39mks_2samp(\u001b[43msample1\u001b[49m, sample2)\n",
      "\u001b[0;31mNameError\u001b[0m: name 'sample1' is not defined"
     ]
    }
   ],
   "source": [
    "import numpy as np\n",
    "from scipy import stats\n",
    "rng = np.random.default_rng()\n",
    "target1 = stats.uniform.rvs(size=100, random_state=rng)\n",
    "target2 = stats.norm.rvs(size=110, random_state=rng)\n",
    "response = stats.ks_2samp(sample1, sample2)"
   ]
  },
  {
   "cell_type": "code",
   "execution_count": 4,
   "metadata": {},
   "outputs": [],
   "source": [
    "import numpy as np\n",
    "from scipy import stats\n",
    "rng = np.random.default_rng()\n",
    "sample1 = stats.uniform.rvs(size=100, random_state=rng)\n",
    "sample2 = stats.norm.rvs(size=110, random_state=rng)\n",
    "response = stats.ks_2samp(sample1, sample2)"
   ]
  },
  {
   "cell_type": "code",
   "execution_count": 5,
   "metadata": {},
   "outputs": [
    {
     "data": {
      "text/plain": [
       "array([0.03350797, 0.29602544, 0.99567842, 0.99188849, 0.65746194,\n",
       "       0.47165994, 0.08671474, 0.21430936, 0.32513681, 0.76582839,\n",
       "       0.47287813, 0.41815797, 0.44751911, 0.30912533, 0.8016064 ,\n",
       "       0.61019148, 0.29661372, 0.93005191, 0.61547556, 0.34651753,\n",
       "       0.2479042 , 0.81407049, 0.90431985, 0.9023348 , 0.28759605,\n",
       "       0.17961468, 0.33514279, 0.88542437, 0.42779509, 0.71672189,\n",
       "       0.54980252, 0.26898489, 0.04354205, 0.61012627, 0.52118483,\n",
       "       0.56085108, 0.11226338, 0.32554274, 0.79662433, 0.83518332,\n",
       "       0.44401773, 0.73704422, 0.5467047 , 0.12315025, 0.49407969,\n",
       "       0.30840826, 0.89655464, 0.2213529 , 0.68324627, 0.29442326,\n",
       "       0.74792889, 0.9463881 , 0.81182746, 0.54196894, 0.33958859,\n",
       "       0.68667848, 0.36316818, 0.48661395, 0.64269484, 0.67958461,\n",
       "       0.34919654, 0.72899878, 0.08632301, 0.10245787, 0.08413152,\n",
       "       0.8174692 , 0.63356851, 0.53206258, 0.95146662, 0.59327589,\n",
       "       0.05882205, 0.32523882, 0.79548659, 0.07576024, 0.65013115,\n",
       "       0.63927017, 0.07560623, 0.81194666, 0.68099651, 0.37832494,\n",
       "       0.64372388, 0.45503021, 0.14569369, 0.22311526, 0.18541874,\n",
       "       0.92864277, 0.2075869 , 0.38933187, 0.1285704 , 0.43857485,\n",
       "       0.72121344, 0.04218684, 0.00421636, 0.91158903, 0.84152163,\n",
       "       0.632685  , 0.58016593, 0.58914617, 0.28755765, 0.2546875 ])"
      ]
     },
     "execution_count": 5,
     "metadata": {},
     "output_type": "execute_result"
    }
   ],
   "source": [
    "sample1"
   ]
  },
  {
   "cell_type": "code",
   "execution_count": 6,
   "metadata": {},
   "outputs": [
    {
     "data": {
      "text/plain": [
       "array([-0.87405657,  1.24946493,  0.08502986,  2.53527941,  1.06638859,\n",
       "        0.89513792,  1.30458993, -0.24700559,  1.18902996, -0.47815613,\n",
       "       -0.82567601, -1.44113193, -0.4890172 , -0.54964097, -1.00165549,\n",
       "        0.79805102,  0.44876964, -0.72952835,  2.11499506,  1.04998576,\n",
       "       -0.51544129, -0.42561488,  0.54832583, -0.73197775,  2.13506052,\n",
       "        1.01383744,  0.59240849, -0.18747968,  0.69051791,  0.16207566,\n",
       "       -0.18260547,  0.19335828, -0.98731746, -0.80993364, -2.62803547,\n",
       "        0.57526844,  1.19088708,  0.60331386,  1.00289798,  0.02797264,\n",
       "        2.39996568, -0.73546123,  1.11329233, -0.49089802, -0.41317487,\n",
       "        0.00995002,  1.24177993,  1.06761198, -0.73508822,  0.30250531,\n",
       "       -0.48261258,  1.25910837,  0.61280688,  0.97086616,  0.42865361,\n",
       "        0.70429352,  1.27455954,  1.14727913,  0.09227352,  0.28683676,\n",
       "       -2.1680648 ,  0.20205136, -1.25031068, -0.97572873,  1.44949047,\n",
       "        0.3683548 , -0.53454232,  0.12348519,  0.25731736, -0.87022037,\n",
       "       -1.62010152, -1.33404321,  0.54448419,  0.43022611,  0.01329098,\n",
       "        0.02903662, -0.26623579,  0.10941778, -0.02297126, -1.03064001,\n",
       "       -0.36093868,  0.81132458,  0.42339598, -0.34379639,  0.87559988,\n",
       "        0.63515786, -0.76074139,  0.06458756,  0.90145532, -0.83916631,\n",
       "        0.28775166, -0.19341724,  0.62818691,  0.41299411, -0.2802624 ,\n",
       "        0.32639622, -0.35533541, -0.37961814, -0.94514959, -0.90707531,\n",
       "       -0.85689924, -0.6763317 , -1.74416529, -0.39555529,  1.19483271,\n",
       "       -0.88598473,  0.85398409, -0.62984223,  0.34135089,  0.62329177])"
      ]
     },
     "execution_count": 6,
     "metadata": {},
     "output_type": "execute_result"
    }
   ],
   "source": [
    "sample2"
   ]
  },
  {
   "cell_type": "code",
   "execution_count": 7,
   "metadata": {},
   "outputs": [
    {
     "data": {
      "text/plain": [
       "1.145919e-10"
      ]
     },
     "execution_count": 7,
     "metadata": {},
     "output_type": "execute_result"
    }
   ],
   "source": [
    "round(response.pvalue,16)"
   ]
  },
  {
   "cell_type": "code",
   "execution_count": 8,
   "metadata": {},
   "outputs": [
    {
     "ename": "SyntaxError",
     "evalue": "invalid syntax (292290722.py, line 4)",
     "output_type": "error",
     "traceback": [
      "\u001b[0;36m  Cell \u001b[0;32mIn[8], line 4\u001b[0;36m\u001b[0m\n\u001b[0;31m    2. Missing COlumns\u001b[0m\n\u001b[0m       ^\u001b[0m\n\u001b[0;31mSyntaxError\u001b[0m\u001b[0;31m:\u001b[0m invalid syntax\n"
     ]
    }
   ],
   "source": [
    "#Anomly in my dataset\n",
    "# \n",
    "# 1.High Null Value\n",
    "2. Missing COlumns\n",
    "3. Outlier\n",
    "4. Categorical: \n",
    "Gender--> MALE, FEMALE,OTHER"
   ]
  },
  {
   "cell_type": "code",
   "execution_count": 9,
   "metadata": {},
   "outputs": [
    {
     "name": "stdout",
     "output_type": "stream",
     "text": [
      "1 4\n",
      "2 5\n",
      "3 6\n",
      "4 7\n"
     ]
    }
   ],
   "source": [
    "l1=[1,2,3,4]\n",
    "l2=[4,5,6,7]\n",
    "\n",
    "for l1_val,l2_val in zip(l1,l2):\n",
    "    print(l1_val,l2_val)"
   ]
  },
  {
   "cell_type": "code",
   "execution_count": 4,
   "metadata": {},
   "outputs": [],
   "source": [
    "import pandas as pd\n",
    "df = pd.read_csv(\"/config/workspace/aps_failure_training_set1.csv\")"
   ]
  },
  {
   "cell_type": "code",
   "execution_count": 5,
   "metadata": {},
   "outputs": [
    {
     "data": {
      "text/plain": [
       "0"
      ]
     },
     "execution_count": 5,
     "metadata": {},
     "output_type": "execute_result"
    }
   ],
   "source": [
    "len(df.iloc[:,[0]].drop(\"class\",axis=1).columns)"
   ]
  },
  {
   "cell_type": "code",
   "execution_count": null,
   "metadata": {},
   "outputs": [],
   "source": []
  },
  {
   "cell_type": "code",
   "execution_count": 6,
   "metadata": {},
   "outputs": [],
   "source": [
    "\n",
    "from glob import glob"
   ]
  },
  {
   "cell_type": "code",
   "execution_count": 7,
   "metadata": {},
   "outputs": [
    {
     "data": {
      "text/plain": [
       "[]"
      ]
     },
     "execution_count": 7,
     "metadata": {},
     "output_type": "execute_result"
    }
   ],
   "source": [
    "glob(\"/config/workspace/saved_models/1/**/*.pkl\")"
   ]
  },
  {
   "cell_type": "code",
   "execution_count": 8,
   "metadata": {},
   "outputs": [
    {
     "data": {
      "text/plain": [
       "'1'"
      ]
     },
     "execution_count": 8,
     "metadata": {},
     "output_type": "execute_result"
    }
   ],
   "source": [
    "import os\n",
    "\n",
    "os.path.basename(\"saved_mode/1\")"
   ]
  },
  {
   "cell_type": "code",
   "execution_count": null,
   "metadata": {},
   "outputs": [],
   "source": []
  }
 ],
 "metadata": {
  "kernelspec": {
   "display_name": "Python 3.8.10 64-bit",
   "language": "python",
   "name": "python3"
  },
  "language_info": {
   "codemirror_mode": {
    "name": "ipython",
    "version": 3
   },
   "file_extension": ".py",
   "mimetype": "text/x-python",
   "name": "python",
   "nbconvert_exporter": "python",
   "pygments_lexer": "ipython3",
   "version": "3.8.10"
  },
  "orig_nbformat": 4,
  "vscode": {
   "interpreter": {
    "hash": "e7370f93d1d0cde622a1f8e1c04877d8463912d04d973331ad4851f04de6915a"
   }
  }
 },
 "nbformat": 4,
 "nbformat_minor": 2
}
